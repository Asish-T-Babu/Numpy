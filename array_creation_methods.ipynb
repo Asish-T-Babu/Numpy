{
 "cells": [
  {
   "cell_type": "markdown",
   "id": "1bd9d18c-848a-4c23-810e-bb988ef0f204",
   "metadata": {},
   "source": [
    "## Array Creation Methods"
   ]
  },
  {
   "cell_type": "code",
   "execution_count": 3,
   "id": "6d024f4a-e7a8-40d9-80a3-6ab6f89a2a58",
   "metadata": {},
   "outputs": [],
   "source": [
    "import numpy as np"
   ]
  },
  {
   "cell_type": "markdown",
   "id": "9fc5c9ef-7ef8-43db-bb0e-bd30f06908ed",
   "metadata": {},
   "source": [
    "### 1. Numpy.array()"
   ]
  },
  {
   "cell_type": "code",
   "execution_count": 6,
   "id": "9574a876-5334-4b96-9cff-a5f08a0d12bb",
   "metadata": {},
   "outputs": [
    {
     "data": {
      "text/plain": [
       "array([1, 2, 3, 4])"
      ]
     },
     "execution_count": 6,
     "metadata": {},
     "output_type": "execute_result"
    }
   ],
   "source": [
    "list1 = [1,2,3,4]\n",
    "arr1 = np.array(list1)\n",
    "arr1"
   ]
  },
  {
   "cell_type": "code",
   "execution_count": 7,
   "id": "6bcbb8ed-32f1-4a89-9eed-f65ceb975945",
   "metadata": {},
   "outputs": [
    {
     "data": {
      "text/plain": [
       "array([10, 20, 30])"
      ]
     },
     "execution_count": 7,
     "metadata": {},
     "output_type": "execute_result"
    }
   ],
   "source": [
    "tuple1 = (10,20,30)\n",
    "arr2 = np.array(tuple1)\n",
    "arr2"
   ]
  },
  {
   "cell_type": "markdown",
   "id": "00c177f5-1278-47fb-bf2b-273845be2d2d",
   "metadata": {},
   "source": [
    "### 2. Numpy.zeros()"
   ]
  },
  {
   "cell_type": "code",
   "execution_count": 8,
   "id": "ce794b37-b2ea-4ed1-95f0-7abce1bfc02a",
   "metadata": {},
   "outputs": [
    {
     "data": {
      "text/plain": [
       "array([0., 0., 0., 0., 0.])"
      ]
     },
     "execution_count": 8,
     "metadata": {},
     "output_type": "execute_result"
    }
   ],
   "source": [
    "arr3 = np.zeros(5)\n",
    "arr3"
   ]
  },
  {
   "cell_type": "code",
   "execution_count": 10,
   "id": "54e8c1a4-1fe0-4a04-a6f9-06d78b8545ad",
   "metadata": {},
   "outputs": [
    {
     "data": {
      "text/plain": [
       "array([[0., 0.],\n",
       "       [0., 0.],\n",
       "       [0., 0.]])"
      ]
     },
     "execution_count": 10,
     "metadata": {},
     "output_type": "execute_result"
    }
   ],
   "source": [
    "arr4 = np.zeros((3,2))\n",
    "arr4"
   ]
  },
  {
   "cell_type": "code",
   "execution_count": 12,
   "id": "f172a23c-b96d-4994-a3d2-f5a398cc63fd",
   "metadata": {},
   "outputs": [
    {
     "data": {
      "text/plain": [
       "array([[[0., 0., 0., 0.],\n",
       "        [0., 0., 0., 0.]],\n",
       "\n",
       "       [[0., 0., 0., 0.],\n",
       "        [0., 0., 0., 0.]],\n",
       "\n",
       "       [[0., 0., 0., 0.],\n",
       "        [0., 0., 0., 0.]]])"
      ]
     },
     "execution_count": 12,
     "metadata": {},
     "output_type": "execute_result"
    }
   ],
   "source": [
    "arr5 = np.zeros((3,2,4))\n",
    "arr5"
   ]
  },
  {
   "cell_type": "markdown",
   "id": "de852288-62fe-4077-9c7a-f7e1894c41d0",
   "metadata": {},
   "source": [
    "### 3. Numpy.ones()"
   ]
  },
  {
   "cell_type": "code",
   "execution_count": 13,
   "id": "8497d89e-e32a-44ff-a9cc-cb54804c1d2f",
   "metadata": {},
   "outputs": [
    {
     "data": {
      "text/plain": [
       "array([1., 1., 1., 1., 1.])"
      ]
     },
     "execution_count": 13,
     "metadata": {},
     "output_type": "execute_result"
    }
   ],
   "source": [
    "arr6 = np.ones(5)\n",
    "arr6"
   ]
  },
  {
   "cell_type": "code",
   "execution_count": 17,
   "id": "956a55fe-d025-4467-af73-e97102dc6508",
   "metadata": {},
   "outputs": [
    {
     "data": {
      "text/plain": [
       "array([[1., 1., 1.],\n",
       "       [1., 1., 1.]])"
      ]
     },
     "execution_count": 17,
     "metadata": {},
     "output_type": "execute_result"
    }
   ],
   "source": [
    "arr7 = np.ones((2,3))\n",
    "arr7"
   ]
  },
  {
   "cell_type": "code",
   "execution_count": 18,
   "id": "cdf138a6-d582-493f-9346-b8d7281189ae",
   "metadata": {},
   "outputs": [
    {
     "data": {
      "text/plain": [
       "array([[[1., 1., 1., 1.],\n",
       "        [1., 1., 1., 1.],\n",
       "        [1., 1., 1., 1.]],\n",
       "\n",
       "       [[1., 1., 1., 1.],\n",
       "        [1., 1., 1., 1.],\n",
       "        [1., 1., 1., 1.]]])"
      ]
     },
     "execution_count": 18,
     "metadata": {},
     "output_type": "execute_result"
    }
   ],
   "source": [
    "arr8 = np.ones((2,3,4))\n",
    "arr8"
   ]
  },
  {
   "cell_type": "markdown",
   "id": "04073837-9e68-4b5f-bfdc-adf8048666ea",
   "metadata": {},
   "source": [
    "### 4. Numpy.arange()"
   ]
  },
  {
   "cell_type": "code",
   "execution_count": 21,
   "id": "ec4ee719-10b2-471d-a09a-791f4277640f",
   "metadata": {},
   "outputs": [
    {
     "data": {
      "text/plain": [
       "array([0, 1, 2, 3, 4])"
      ]
     },
     "execution_count": 21,
     "metadata": {},
     "output_type": "execute_result"
    }
   ],
   "source": [
    "arr9 = np.arange(5) # we are passing 5 as argument, here we are giving value where we need to stop\n",
    "arr9"
   ]
  },
  {
   "cell_type": "code",
   "execution_count": 23,
   "id": "7c271d69-41b4-43e8-b90e-b92924a7282a",
   "metadata": {},
   "outputs": [
    {
     "data": {
      "text/plain": [
       "array([5, 6, 7, 8, 9])"
      ]
     },
     "execution_count": 23,
     "metadata": {},
     "output_type": "execute_result"
    }
   ],
   "source": [
    "arr10 = np.arange(5,10) # where to start and where to stop\n",
    "arr10"
   ]
  },
  {
   "cell_type": "code",
   "execution_count": 24,
   "id": "d123ae8f-2da7-4450-bb7c-682d11500cda",
   "metadata": {},
   "outputs": [
    {
     "data": {
      "text/plain": [
       "array([20, 25, 30, 35, 40, 45])"
      ]
     },
     "execution_count": 24,
     "metadata": {},
     "output_type": "execute_result"
    }
   ],
   "source": [
    "arr11 = np.arange(20,50,5) # where to start, where to stop and how much need to increment after printing one value\n",
    "arr11"
   ]
  },
  {
   "cell_type": "code",
   "execution_count": 25,
   "id": "af609975-7e66-482c-ba3b-b22ff5e81d60",
   "metadata": {},
   "outputs": [
    {
     "data": {
      "text/plain": [
       "array([ 1.5,  2. ,  2.5,  3. ,  3.5,  4. ,  4.5,  5. ,  5.5,  6. ,  6.5,\n",
       "        7. ,  7.5,  8. ,  8.5,  9. ,  9.5, 10. , 10.5, 11. , 11.5, 12. ,\n",
       "       12.5, 13. , 13.5, 14. , 14.5])"
      ]
     },
     "execution_count": 25,
     "metadata": {},
     "output_type": "execute_result"
    }
   ],
   "source": [
    "arr12 = np.arange(1.5,15,0.5)\n",
    "arr12"
   ]
  },
  {
   "cell_type": "markdown",
   "id": "5e641649-b40f-4b53-9cf3-5a067a3d123b",
   "metadata": {},
   "source": [
    "### 5. Numpy.linspace()"
   ]
  },
  {
   "cell_type": "code",
   "execution_count": 27,
   "id": "16b9d86c-4975-4ec3-b3b9-6d003b08fa9f",
   "metadata": {},
   "outputs": [
    {
     "data": {
      "text/plain": [
       "array([ 1.        ,  1.18367347,  1.36734694,  1.55102041,  1.73469388,\n",
       "        1.91836735,  2.10204082,  2.28571429,  2.46938776,  2.65306122,\n",
       "        2.83673469,  3.02040816,  3.20408163,  3.3877551 ,  3.57142857,\n",
       "        3.75510204,  3.93877551,  4.12244898,  4.30612245,  4.48979592,\n",
       "        4.67346939,  4.85714286,  5.04081633,  5.2244898 ,  5.40816327,\n",
       "        5.59183673,  5.7755102 ,  5.95918367,  6.14285714,  6.32653061,\n",
       "        6.51020408,  6.69387755,  6.87755102,  7.06122449,  7.24489796,\n",
       "        7.42857143,  7.6122449 ,  7.79591837,  7.97959184,  8.16326531,\n",
       "        8.34693878,  8.53061224,  8.71428571,  8.89795918,  9.08163265,\n",
       "        9.26530612,  9.44897959,  9.63265306,  9.81632653, 10.        ])"
      ]
     },
     "execution_count": 27,
     "metadata": {},
     "output_type": "execute_result"
    }
   ],
   "source": [
    "arr13 = np.linspace(1,10) # here the linspace will create a list of values inbetween first tow arguments and the difference between each value is same which means the difference between each value is same) and by default it will generate 50 values in between two arguments but we can adjust it.\n",
    "arr13"
   ]
  },
  {
   "cell_type": "code",
   "execution_count": 28,
   "id": "24d96cfd-81d1-423e-bc0c-3ee6f5b5649a",
   "metadata": {},
   "outputs": [
    {
     "data": {
      "text/plain": [
       "array([ 1. ,  5.5, 10. ])"
      ]
     },
     "execution_count": 28,
     "metadata": {},
     "output_type": "execute_result"
    }
   ],
   "source": [
    "arr14 = np.linspace(1,10,3) # here the third value reffers to the number of values need to present inside the list by default it is 50\n",
    "arr14"
   ]
  },
  {
   "cell_type": "markdown",
   "id": "64cb812e-44b1-46c0-b50a-42c03a7380ae",
   "metadata": {},
   "source": [
    "### 6. Numpy.eye()"
   ]
  },
  {
   "cell_type": "code",
   "execution_count": 29,
   "id": "e5d98048-59e1-4352-af5c-64b833389557",
   "metadata": {},
   "outputs": [],
   "source": [
    "# this will crete a 2D array with main diagonal values as one and zeros elsewhere"
   ]
  },
  {
   "cell_type": "code",
   "execution_count": 31,
   "id": "57789fe4-e90e-46d8-a032-4ecd8c09f484",
   "metadata": {},
   "outputs": [
    {
     "data": {
      "text/plain": [
       "array([[1., 0., 0., 0.],\n",
       "       [0., 1., 0., 0.],\n",
       "       [0., 0., 1., 0.],\n",
       "       [0., 0., 0., 1.]])"
      ]
     },
     "execution_count": 31,
     "metadata": {},
     "output_type": "execute_result"
    }
   ],
   "source": [
    "arr15 = np.eye(4)\n",
    "arr15"
   ]
  },
  {
   "cell_type": "code",
   "execution_count": 41,
   "id": "965cc9ce-ff0c-4fd4-ae16-0c5386b878dc",
   "metadata": {},
   "outputs": [
    {
     "data": {
      "text/plain": [
       "array([[1., 0., 0., 0.],\n",
       "       [0., 1., 0., 0.],\n",
       "       [0., 0., 1., 0.],\n",
       "       [0., 0., 0., 1.],\n",
       "       [0., 0., 0., 0.],\n",
       "       [0., 0., 0., 0.]])"
      ]
     },
     "execution_count": 41,
     "metadata": {},
     "output_type": "execute_result"
    }
   ],
   "source": [
    "arr16 = np.eye(6,4) # here we are specifing the number of rows and the number of columns, and the digonal will be 1. \n",
    "arr16"
   ]
  },
  {
   "cell_type": "code",
   "execution_count": 47,
   "id": "f4a8b86a-07fb-4c3c-a9aa-6055cf65b6d6",
   "metadata": {},
   "outputs": [
    {
     "data": {
      "text/plain": [
       "array([[0., 0., 0., 0.],\n",
       "       [0., 0., 0., 0.],\n",
       "       [0., 0., 0., 0.],\n",
       "       [1., 0., 0., 0.],\n",
       "       [0., 1., 0., 0.],\n",
       "       [0., 0., 1., 0.]])"
      ]
     },
     "execution_count": 47,
     "metadata": {},
     "output_type": "execute_result"
    }
   ],
   "source": [
    "arr17 = np.eye(6,4,k=-3) # here the k represents, from where we need to calculate the digonal, if it is positive value then it will jump the number of colums from the initial value and if it -ve value then it will jump the number of rows.\n",
    "arr17"
   ]
  },
  {
   "cell_type": "markdown",
   "id": "27f70e93-fead-4c4d-89d0-7b0df49549e5",
   "metadata": {},
   "source": [
    "## 7. Numpy.full()"
   ]
  },
  {
   "cell_type": "code",
   "execution_count": 49,
   "id": "8f80d686-a98b-45bc-8378-e263be6c6eaa",
   "metadata": {},
   "outputs": [],
   "source": [
    "# Creates An Array Filled With Specified Value"
   ]
  },
  {
   "cell_type": "code",
   "execution_count": 51,
   "id": "a575b6f9-ed75-4fc5-97a6-78cdc1335070",
   "metadata": {},
   "outputs": [
    {
     "data": {
      "text/plain": [
       "array([1, 1, 1, 1, 1])"
      ]
     },
     "execution_count": 51,
     "metadata": {},
     "output_type": "execute_result"
    }
   ],
   "source": [
    "arr18 = np.full(5,1) # here in first argument, we are specifing the dimension of the array and the second value is specifies which value should be in the array\n",
    "arr18"
   ]
  },
  {
   "cell_type": "code",
   "execution_count": 52,
   "id": "01be1d10-79e9-49fc-a237-418a86b959bc",
   "metadata": {},
   "outputs": [
    {
     "data": {
      "text/plain": [
       "array([[12, 12, 12, 12],\n",
       "       [12, 12, 12, 12],\n",
       "       [12, 12, 12, 12],\n",
       "       [12, 12, 12, 12]])"
      ]
     },
     "execution_count": 52,
     "metadata": {},
     "output_type": "execute_result"
    }
   ],
   "source": [
    "arr19 = np.full((4,4),12)\n",
    "arr19"
   ]
  },
  {
   "cell_type": "code",
   "execution_count": 54,
   "id": "ecdce664-6dae-4c58-8689-a8d6528b8fe8",
   "metadata": {},
   "outputs": [
    {
     "data": {
      "text/plain": [
       "array([[[5, 5],\n",
       "        [5, 5]],\n",
       "\n",
       "       [[5, 5],\n",
       "        [5, 5]]])"
      ]
     },
     "execution_count": 54,
     "metadata": {},
     "output_type": "execute_result"
    }
   ],
   "source": [
    "arr20 = np.full((2,2,2), 5)\n",
    "arr20"
   ]
  },
  {
   "cell_type": "markdown",
   "id": "29ae39c9-e1fb-4857-856f-8f859a07f885",
   "metadata": {},
   "source": [
    "## 8. Numpy.random.randint()"
   ]
  },
  {
   "cell_type": "code",
   "execution_count": 58,
   "id": "0a7b989c-9786-4fa5-889c-c9437ef8285e",
   "metadata": {},
   "outputs": [],
   "source": [
    "# Creates An Array With Random Integers and the value range can be provided"
   ]
  },
  {
   "cell_type": "code",
   "execution_count": 59,
   "id": "ad78b135-8298-483d-b5c3-68e80014ee90",
   "metadata": {},
   "outputs": [
    {
     "data": {
      "text/plain": [
       "array([4, 0, 1, 2, 6])"
      ]
     },
     "execution_count": 59,
     "metadata": {},
     "output_type": "execute_result"
    }
   ],
   "source": [
    "np.random.randint(0,10,5) # from where to where and the last argument is the dimension of the array"
   ]
  },
  {
   "cell_type": "code",
   "execution_count": 61,
   "id": "fc606755-42ea-4d10-a543-b1d83c7474f3",
   "metadata": {},
   "outputs": [
    {
     "data": {
      "text/plain": [
       "array([[34, 39, 26, 22, 39, 38, 44],\n",
       "       [44, 44, 36, 45, 28, 42, 48],\n",
       "       [43, 43, 36, 47, 44, 49, 41],\n",
       "       [24, 23, 34, 48, 39, 48, 45],\n",
       "       [36, 45, 22, 25, 37, 37, 33],\n",
       "       [26, 39, 41, 45, 33, 34, 45],\n",
       "       [43, 39, 36, 23, 22, 40, 38]])"
      ]
     },
     "execution_count": 61,
     "metadata": {},
     "output_type": "execute_result"
    }
   ],
   "source": [
    "np.random.randint(20,50,(7,7))"
   ]
  },
  {
   "cell_type": "code",
   "execution_count": 63,
   "id": "f1e28bf9-e7d3-4afe-b31d-54af4e4828e7",
   "metadata": {},
   "outputs": [
    {
     "data": {
      "text/plain": [
       "array([[[31, 43],\n",
       "        [36, 34],\n",
       "        [45, 49]],\n",
       "\n",
       "       [[31, 37],\n",
       "        [45, 24],\n",
       "        [20, 23]],\n",
       "\n",
       "       [[45, 31],\n",
       "        [35, 23],\n",
       "        [38, 36]],\n",
       "\n",
       "       [[39, 42],\n",
       "        [40, 41],\n",
       "        [45, 33]],\n",
       "\n",
       "       [[23, 41],\n",
       "        [34, 34],\n",
       "        [26, 47]],\n",
       "\n",
       "       [[23, 49],\n",
       "        [43, 29],\n",
       "        [40, 30]],\n",
       "\n",
       "       [[35, 45],\n",
       "        [44, 26],\n",
       "        [40, 30]]])"
      ]
     },
     "execution_count": 63,
     "metadata": {},
     "output_type": "execute_result"
    }
   ],
   "source": [
    "np.random.randint(20,50,(7,3,2))"
   ]
  },
  {
   "cell_type": "markdown",
   "id": "822d3971-010b-4265-b9d5-c507046ea627",
   "metadata": {},
   "source": [
    "## 9. Numpy.random.random()"
   ]
  },
  {
   "cell_type": "code",
   "execution_count": 57,
   "id": "11db3fc0-b80a-4da4-ab77-8a6fe4917209",
   "metadata": {},
   "outputs": [],
   "source": [
    "# Creates An Array With Random Float Values, and the values lie in between 0 and 1"
   ]
  },
  {
   "cell_type": "code",
   "execution_count": 64,
   "id": "dd8b1cb8-2008-4cbe-b79a-f9d8b32d1b3e",
   "metadata": {},
   "outputs": [
    {
     "data": {
      "text/plain": [
       "array([0.2459431 , 0.93755705, 0.7339735 , 0.82235537, 0.94692109])"
      ]
     },
     "execution_count": 64,
     "metadata": {},
     "output_type": "execute_result"
    }
   ],
   "source": [
    "np.random.random(5) # we are only providing the dimension of the array"
   ]
  },
  {
   "cell_type": "code",
   "execution_count": 65,
   "id": "703875eb-12d0-4a7c-a145-0b39131771a8",
   "metadata": {},
   "outputs": [
    {
     "data": {
      "text/plain": [
       "array([[0.80857484, 0.87628429, 0.49044067],\n",
       "       [0.0100163 , 0.00207151, 0.40390442]])"
      ]
     },
     "execution_count": 65,
     "metadata": {},
     "output_type": "execute_result"
    }
   ],
   "source": [
    "np.random.random((2,3))"
   ]
  },
  {
   "cell_type": "code",
   "execution_count": 66,
   "id": "8026796d-5f91-450e-b38d-1908c502fb74",
   "metadata": {},
   "outputs": [
    {
     "data": {
      "text/plain": [
       "array([[[0.06225375, 0.62957524],\n",
       "        [0.50639223, 0.49079368],\n",
       "        [0.04224947, 0.76593681]],\n",
       "\n",
       "       [[0.04890989, 0.44876463],\n",
       "        [0.27047582, 0.34614421],\n",
       "        [0.01175637, 0.65900744]]])"
      ]
     },
     "execution_count": 66,
     "metadata": {},
     "output_type": "execute_result"
    }
   ],
   "source": [
    "np.random.random((2,3,2))"
   ]
  }
 ],
 "metadata": {
  "kernelspec": {
   "display_name": "Python 3 (ipykernel)",
   "language": "python",
   "name": "python3"
  },
  "language_info": {
   "codemirror_mode": {
    "name": "ipython",
    "version": 3
   },
   "file_extension": ".py",
   "mimetype": "text/x-python",
   "name": "python",
   "nbconvert_exporter": "python",
   "pygments_lexer": "ipython3",
   "version": "3.11.7"
  }
 },
 "nbformat": 4,
 "nbformat_minor": 5
}
