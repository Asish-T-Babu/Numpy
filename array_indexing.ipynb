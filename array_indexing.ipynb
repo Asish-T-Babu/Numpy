{
 "cells": [
  {
   "cell_type": "markdown",
   "id": "e72bccff-c2bf-439a-8157-da9ba9c92ac6",
   "metadata": {},
   "source": [
    "### Array Indexing"
   ]
  },
  {
   "cell_type": "code",
   "execution_count": 1,
   "id": "1507b310-3c5f-4e8f-8eca-45dcad0d5f3c",
   "metadata": {},
   "outputs": [],
   "source": [
    "import numpy as np"
   ]
  },
  {
   "cell_type": "markdown",
   "id": "2765d356-1390-4161-ad76-b67a8dd55c50",
   "metadata": {},
   "source": [
    "#### 1-D Array Indexing"
   ]
  },
  {
   "cell_type": "code",
   "execution_count": 2,
   "id": "f22290be-c46d-4346-a916-c43fb280c618",
   "metadata": {},
   "outputs": [
    {
     "data": {
      "text/plain": [
       "array([ 10,  20,  30,  40,  50,  60,  70,  80,  90, 100])"
      ]
     },
     "execution_count": 2,
     "metadata": {},
     "output_type": "execute_result"
    }
   ],
   "source": [
    "arr1 = np.arange(10,101,10)\n",
    "arr1"
   ]
  },
  {
   "cell_type": "code",
   "execution_count": 7,
   "id": "bc151b60-c870-4837-a67a-5d2900f11117",
   "metadata": {},
   "outputs": [
    {
     "data": {
      "text/plain": [
       "40"
      ]
     },
     "execution_count": 7,
     "metadata": {},
     "output_type": "execute_result"
    }
   ],
   "source": [
    "arr1[3]"
   ]
  },
  {
   "cell_type": "code",
   "execution_count": 4,
   "id": "b468f15e-d245-4de9-bd52-55383ec167d1",
   "metadata": {},
   "outputs": [
    {
     "data": {
      "text/plain": [
       "70"
      ]
     },
     "execution_count": 4,
     "metadata": {},
     "output_type": "execute_result"
    }
   ],
   "source": [
    "arr1[-4]"
   ]
  },
  {
   "cell_type": "markdown",
   "id": "d216edcf-e366-4a74-a6d8-309a9ce63120",
   "metadata": {},
   "source": [
    "#### 2-D Array Indexing"
   ]
  },
  {
   "cell_type": "code",
   "execution_count": 5,
   "id": "db7319ab-81d7-4590-ae84-9cf290ca248c",
   "metadata": {},
   "outputs": [
    {
     "data": {
      "text/plain": [
       "array([[ 1,  2,  3],\n",
       "       [ 4,  5,  6],\n",
       "       [ 7,  8,  9],\n",
       "       [10, 11, 12]])"
      ]
     },
     "execution_count": 5,
     "metadata": {},
     "output_type": "execute_result"
    }
   ],
   "source": [
    "arr2 = np.array([\n",
    "    [1,2,3,],[4,5,6],[7,8,9],[10,11,12]\n",
    "])\n",
    "arr2"
   ]
  },
  {
   "cell_type": "code",
   "execution_count": 6,
   "id": "c081ebef-f40d-43f2-9e47-8195e691094e",
   "metadata": {},
   "outputs": [
    {
     "data": {
      "text/plain": [
       "8"
      ]
     },
     "execution_count": 6,
     "metadata": {},
     "output_type": "execute_result"
    }
   ],
   "source": [
    "arr2[2][1]"
   ]
  },
  {
   "cell_type": "code",
   "execution_count": null,
   "id": "cdefdb2f-abc5-4cb3-bb63-d56a8aaf385c",
   "metadata": {},
   "outputs": [],
   "source": [
    "arr2[3][2]"
   ]
  },
  {
   "cell_type": "markdown",
   "id": "3ee8ea59-e436-45ae-8455-cdb27be0e0ab",
   "metadata": {},
   "source": [
    "#### 3-D Array Indexing"
   ]
  },
  {
   "cell_type": "code",
   "execution_count": 11,
   "id": "5ff211e5-d70f-4774-9666-35b1fd7bc41f",
   "metadata": {},
   "outputs": [
    {
     "data": {
      "text/plain": [
       "array([[[1, 2],\n",
       "        [3, 4]],\n",
       "\n",
       "       [[5, 6],\n",
       "        [7, 8]]])"
      ]
     },
     "execution_count": 11,
     "metadata": {},
     "output_type": "execute_result"
    }
   ],
   "source": [
    "arr3 = np.array([\n",
    "    [[1,2,],[3,4]],\n",
    "    [[5,6],[7,8]]\n",
    "])\n",
    "arr3"
   ]
  },
  {
   "cell_type": "code",
   "execution_count": 12,
   "id": "ba404a80-0230-4b28-8c56-eb54d383fe5c",
   "metadata": {},
   "outputs": [
    {
     "data": {
      "text/plain": [
       "3"
      ]
     },
     "execution_count": 12,
     "metadata": {},
     "output_type": "execute_result"
    }
   ],
   "source": [
    "arr3[0][1][0]"
   ]
  }
 ],
 "metadata": {
  "kernelspec": {
   "display_name": "Python 3 (ipykernel)",
   "language": "python",
   "name": "python3"
  },
  "language_info": {
   "codemirror_mode": {
    "name": "ipython",
    "version": 3
   },
   "file_extension": ".py",
   "mimetype": "text/x-python",
   "name": "python",
   "nbconvert_exporter": "python",
   "pygments_lexer": "ipython3",
   "version": "3.11.7"
  }
 },
 "nbformat": 4,
 "nbformat_minor": 5
}
