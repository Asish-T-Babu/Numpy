{
 "cells": [
  {
   "cell_type": "markdown",
   "id": "0dd602cf-f033-450b-869c-5aedc954a377",
   "metadata": {},
   "source": [
    "# Numpy Datatypes"
   ]
  },
  {
   "cell_type": "code",
   "execution_count": 2,
   "id": "388d16fe-b6de-439e-8afd-fec9909abb97",
   "metadata": {},
   "outputs": [],
   "source": [
    "import numpy as np"
   ]
  },
  {
   "cell_type": "markdown",
   "id": "a62fc8bc-0148-45b0-94d5-bb7806be8f7d",
   "metadata": {},
   "source": [
    "## Find Data Types Of An Array"
   ]
  },
  {
   "cell_type": "code",
   "execution_count": 6,
   "id": "316432fb-757c-4fc0-a47f-07c0f84ee3cd",
   "metadata": {},
   "outputs": [
    {
     "data": {
      "text/plain": [
       "array([1, 2, 3, 4, 5])"
      ]
     },
     "execution_count": 6,
     "metadata": {},
     "output_type": "execute_result"
    }
   ],
   "source": [
    "arr1  = np.array([1,2,3,4,5])\n",
    "arr1"
   ]
  },
  {
   "cell_type": "code",
   "execution_count": 7,
   "id": "12738868-28d5-414a-bb8b-f263a25bade1",
   "metadata": {},
   "outputs": [
    {
     "data": {
      "text/plain": [
       "dtype('int32')"
      ]
     },
     "execution_count": 7,
     "metadata": {},
     "output_type": "execute_result"
    }
   ],
   "source": [
    "arr1.dtype"
   ]
  },
  {
   "cell_type": "code",
   "execution_count": 9,
   "id": "5794bddf-fb67-4e50-961c-d7773f98a81d",
   "metadata": {},
   "outputs": [],
   "source": [
    "arr2 = np.array([1.1,2.1,3.1,4.1,5.1])"
   ]
  },
  {
   "cell_type": "code",
   "execution_count": 10,
   "id": "dc9e5674-18f6-4158-8691-2c59e296808c",
   "metadata": {},
   "outputs": [
    {
     "data": {
      "text/plain": [
       "dtype('float64')"
      ]
     },
     "execution_count": 10,
     "metadata": {},
     "output_type": "execute_result"
    }
   ],
   "source": [
    "arr2.dtype"
   ]
  },
  {
   "cell_type": "code",
   "execution_count": 11,
   "id": "a2ce1975-4d28-4c6e-9ca5-fdc16932ef9a",
   "metadata": {},
   "outputs": [],
   "source": [
    "arr3 = np.array(['a','b','c'])"
   ]
  },
  {
   "cell_type": "code",
   "execution_count": 12,
   "id": "6704d44b-6ec2-4a4b-b400-a221d3f7c072",
   "metadata": {},
   "outputs": [
    {
     "data": {
      "text/plain": [
       "array(['a', 'b', 'c'], dtype='<U1')"
      ]
     },
     "execution_count": 12,
     "metadata": {},
     "output_type": "execute_result"
    }
   ],
   "source": [
    "arr3"
   ]
  },
  {
   "cell_type": "code",
   "execution_count": 14,
   "id": "6df5a6af-984d-4f9d-a9cf-ed23c312d61f",
   "metadata": {},
   "outputs": [
    {
     "data": {
      "text/plain": [
       "dtype('<U1')"
      ]
     },
     "execution_count": 14,
     "metadata": {},
     "output_type": "execute_result"
    }
   ],
   "source": [
    "arr3.dtype"
   ]
  },
  {
   "cell_type": "markdown",
   "id": "488cf0ff-82c0-4178-81ed-c4d7e12b8194",
   "metadata": {},
   "source": [
    "## Create An Array With Specified Data Type"
   ]
  },
  {
   "cell_type": "code",
   "execution_count": 21,
   "id": "9f49d92c-3d3c-424c-9228-86fe97244fce",
   "metadata": {},
   "outputs": [],
   "source": [
    "arr4 = np.array([1,2,3,4,5],dtype=np.int64) #Here we are specifing datatype using the datatype's in the numpy, we can also do with the character code assigned to each dtype"
   ]
  },
  {
   "cell_type": "code",
   "execution_count": 22,
   "id": "a2b2e4bf-2420-47ab-b1c9-7fd8fb34d718",
   "metadata": {},
   "outputs": [
    {
     "data": {
      "text/plain": [
       "dtype('int64')"
      ]
     },
     "execution_count": 22,
     "metadata": {},
     "output_type": "execute_result"
    }
   ],
   "source": [
    "arr4.dtype"
   ]
  },
  {
   "cell_type": "code",
   "execution_count": 19,
   "id": "a63a641c-6272-4f7d-9358-9e0214238099",
   "metadata": {},
   "outputs": [],
   "source": [
    "arr5 = np.array([1,2,3,4,5], dtype=np.float16)"
   ]
  },
  {
   "cell_type": "code",
   "execution_count": 20,
   "id": "b5c37ea5-2387-4386-a6b7-861f024cc44e",
   "metadata": {},
   "outputs": [
    {
     "data": {
      "text/plain": [
       "dtype('float16')"
      ]
     },
     "execution_count": 20,
     "metadata": {},
     "output_type": "execute_result"
    }
   ],
   "source": [
    "arr5.dtype"
   ]
  },
  {
   "cell_type": "code",
   "execution_count": 25,
   "id": "bcb60e2b-753d-4e95-b504-b96a0026c290",
   "metadata": {},
   "outputs": [],
   "source": [
    "arr4 = np.array([1,2,3,4,5],dtype='i2') #Here we are specifing the character code assigned to dtype insted of using the datatype's in the numpy"
   ]
  },
  {
   "cell_type": "code",
   "execution_count": 26,
   "id": "66507e20-7fb0-4302-a72c-43462e1876ab",
   "metadata": {},
   "outputs": [
    {
     "data": {
      "text/plain": [
       "dtype('int16')"
      ]
     },
     "execution_count": 26,
     "metadata": {},
     "output_type": "execute_result"
    }
   ],
   "source": [
    "arr4.dtype"
   ]
  },
  {
   "cell_type": "markdown",
   "id": "6c763e8a-fc39-4382-b22b-628d8bb2e9f9",
   "metadata": {},
   "source": [
    "## Convert Data Types"
   ]
  },
  {
   "cell_type": "code",
   "execution_count": 30,
   "id": "587cd2b8-3251-40c8-9eda-7369d87f82fa",
   "metadata": {},
   "outputs": [],
   "source": [
    "arr5 = np.array([1,2,3,4,5],dtype=np.int8)"
   ]
  },
  {
   "cell_type": "code",
   "execution_count": 31,
   "id": "883189e5-d266-4afb-905d-400efd45f1ab",
   "metadata": {},
   "outputs": [
    {
     "data": {
      "text/plain": [
       "dtype('int8')"
      ]
     },
     "execution_count": 31,
     "metadata": {},
     "output_type": "execute_result"
    }
   ],
   "source": [
    "arr5.dtype"
   ]
  },
  {
   "cell_type": "code",
   "execution_count": 32,
   "id": "f6740a6b-4e9e-4880-b532-b4b018f67c06",
   "metadata": {},
   "outputs": [],
   "source": [
    "arr8 = arr5.astype(np.float16)"
   ]
  },
  {
   "cell_type": "code",
   "execution_count": 33,
   "id": "f87442a9-54f8-43d4-a9b2-1315f41f66f5",
   "metadata": {},
   "outputs": [
    {
     "data": {
      "text/plain": [
       "dtype('float16')"
      ]
     },
     "execution_count": 33,
     "metadata": {},
     "output_type": "execute_result"
    }
   ],
   "source": [
    "arr8.dtype"
   ]
  },
  {
   "cell_type": "code",
   "execution_count": 34,
   "id": "e0b4fadf-051e-4fcf-afee-c1d08d6621af",
   "metadata": {},
   "outputs": [
    {
     "data": {
      "text/plain": [
       "array([1., 2., 3., 4., 5.], dtype=float16)"
      ]
     },
     "execution_count": 34,
     "metadata": {},
     "output_type": "execute_result"
    }
   ],
   "source": [
    "arr8"
   ]
  },
  {
   "cell_type": "code",
   "execution_count": 35,
   "id": "d992d26e-d87e-45e0-a826-97b605b4690d",
   "metadata": {},
   "outputs": [],
   "source": [
    "arr9 = arr7.astype(np.uint16)"
   ]
  },
  {
   "cell_type": "code",
   "execution_count": 36,
   "id": "b50c43a5-1f50-40d0-bfd8-2dcc7aedc251",
   "metadata": {},
   "outputs": [
    {
     "data": {
      "text/plain": [
       "dtype('uint16')"
      ]
     },
     "execution_count": 36,
     "metadata": {},
     "output_type": "execute_result"
    }
   ],
   "source": [
    "arr9.dtype"
   ]
  },
  {
   "cell_type": "code",
   "execution_count": 37,
   "id": "00de9f8c-6858-475d-b9ca-c6855eaf2c2f",
   "metadata": {},
   "outputs": [
    {
     "data": {
      "text/plain": [
       "array([1, 2, 3, 4, 5], dtype=uint16)"
      ]
     },
     "execution_count": 37,
     "metadata": {},
     "output_type": "execute_result"
    }
   ],
   "source": [
    "arr9"
   ]
  }
 ],
 "metadata": {
  "kernelspec": {
   "display_name": "Python 3 (ipykernel)",
   "language": "python",
   "name": "python3"
  },
  "language_info": {
   "codemirror_mode": {
    "name": "ipython",
    "version": 3
   },
   "file_extension": ".py",
   "mimetype": "text/x-python",
   "name": "python",
   "nbconvert_exporter": "python",
   "pygments_lexer": "ipython3",
   "version": "3.11.7"
  }
 },
 "nbformat": 4,
 "nbformat_minor": 5
}
