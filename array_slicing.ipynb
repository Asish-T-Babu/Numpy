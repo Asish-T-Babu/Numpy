{
 "cells": [
  {
   "cell_type": "markdown",
   "id": "9b14fb3f-98b9-473b-9e2e-b92df09365ea",
   "metadata": {},
   "source": [
    "### Array Slicing"
   ]
  },
  {
   "cell_type": "code",
   "execution_count": 2,
   "id": "0b725483-0d1d-4486-84fa-596e1df210e9",
   "metadata": {},
   "outputs": [],
   "source": [
    "import numpy as np"
   ]
  },
  {
   "cell_type": "markdown",
   "id": "dfac65c1-0339-49ad-9595-0368f37c47bf",
   "metadata": {},
   "source": [
    "#### 1-D Array Slicing"
   ]
  },
  {
   "cell_type": "code",
   "execution_count": 3,
   "id": "897d3ecf-ea91-49d3-8e3f-6d9c9f8f402f",
   "metadata": {},
   "outputs": [
    {
     "data": {
      "text/plain": [
       "array([ 10,  20,  30,  40,  50,  60,  70,  80,  90, 100])"
      ]
     },
     "execution_count": 3,
     "metadata": {},
     "output_type": "execute_result"
    }
   ],
   "source": [
    "arr1  = np.arange(10,101,10)\n",
    "arr1"
   ]
  },
  {
   "cell_type": "code",
   "execution_count": 4,
   "id": "db8df831-6970-48cb-b02f-56166ff95c2e",
   "metadata": {},
   "outputs": [
    {
     "data": {
      "text/plain": [
       "array([20, 30, 40, 50, 60])"
      ]
     },
     "execution_count": 4,
     "metadata": {},
     "output_type": "execute_result"
    }
   ],
   "source": [
    "arr2 = arr1[1:6]\n",
    "arr2"
   ]
  },
  {
   "cell_type": "code",
   "execution_count": 7,
   "id": "9f131fd2-6247-43a9-a3a1-815f608c5215",
   "metadata": {},
   "outputs": [
    {
     "data": {
      "text/plain": [
       "array([20, 40, 60])"
      ]
     },
     "execution_count": 7,
     "metadata": {},
     "output_type": "execute_result"
    }
   ],
   "source": [
    "arr3 = arr1[1:6:2] # here the value refers to the increment of index by default iit is one(1)\n",
    "arr3"
   ]
  },
  {
   "cell_type": "markdown",
   "id": "2bc40fa9-e8bb-41f6-b575-78b8a3485d12",
   "metadata": {},
   "source": [
    "##### giving only one value inside []"
   ]
  },
  {
   "cell_type": "code",
   "execution_count": 8,
   "id": "413c784d-2e84-453d-8b3b-55842174fc26",
   "metadata": {},
   "outputs": [
    {
     "data": {
      "text/plain": [
       "array([ 60,  70,  80,  90, 100])"
      ]
     },
     "execution_count": 8,
     "metadata": {},
     "output_type": "execute_result"
    }
   ],
   "source": [
    "arr4 = arr1[5:]\n",
    "arr4"
   ]
  },
  {
   "cell_type": "code",
   "execution_count": 10,
   "id": "dd7cd94b-c8b4-4eb3-a073-dc6b583bda53",
   "metadata": {},
   "outputs": [
    {
     "data": {
      "text/plain": [
       "array([10, 20, 30, 40, 50])"
      ]
     },
     "execution_count": 10,
     "metadata": {},
     "output_type": "execute_result"
    }
   ],
   "source": [
    "arr5 = arr1[:5]\n",
    "arr5"
   ]
  },
  {
   "cell_type": "markdown",
   "id": "fb632365-1fd5-499e-9f78-4f8f99de3266",
   "metadata": {},
   "source": [
    "##### negative indexing"
   ]
  },
  {
   "cell_type": "code",
   "execution_count": 12,
   "id": "d8f04787-f65f-4c47-96f0-3b3e7e2345c9",
   "metadata": {},
   "outputs": [
    {
     "data": {
      "text/plain": [
       "array([70, 60, 50])"
      ]
     },
     "execution_count": 12,
     "metadata": {},
     "output_type": "execute_result"
    }
   ],
   "source": [
    "arr6 = arr1[-4:-7:-1]\n",
    "arr6"
   ]
  },
  {
   "cell_type": "markdown",
   "id": "3f481bd4-ec32-44e9-8e1d-ac6f5950bc99",
   "metadata": {},
   "source": [
    "#### 2-D Array Slicing"
   ]
  },
  {
   "cell_type": "code",
   "execution_count": 15,
   "id": "df9dc2d2-f172-4d10-9c4c-d2712e8a01b1",
   "metadata": {},
   "outputs": [
    {
     "data": {
      "text/plain": [
       "array([[ 1,  2,  3],\n",
       "       [ 4,  5,  6],\n",
       "       [ 7,  8,  9],\n",
       "       [10, 11, 12]])"
      ]
     },
     "execution_count": 15,
     "metadata": {},
     "output_type": "execute_result"
    }
   ],
   "source": [
    "arr7 = np.array([\n",
    "    [1,2,3,],[4,5,6],[7,8,9],[10,11,12]\n",
    "])\n",
    "arr7"
   ]
  },
  {
   "cell_type": "code",
   "execution_count": 16,
   "id": "399fa898-693e-43bd-b144-05f5298f3d83",
   "metadata": {},
   "outputs": [
    {
     "data": {
      "text/plain": [
       "array([7, 8])"
      ]
     },
     "execution_count": 16,
     "metadata": {},
     "output_type": "execute_result"
    }
   ],
   "source": [
    "arr8 = arr7[2,0:2] # here the first value refers to the row need to be sliced and th other two value(0;2) refers to the index of the rown need to be sliced\n",
    "arr8"
   ]
  },
  {
   "cell_type": "code",
   "execution_count": 19,
   "id": "5ded5ffe-15fd-4596-bf7f-0ca3a1522405",
   "metadata": {},
   "outputs": [
    {
     "data": {
      "text/plain": [
       "array([[4, 5, 6],\n",
       "       [7, 8, 9]])"
      ]
     },
     "execution_count": 19,
     "metadata": {},
     "output_type": "execute_result"
    }
   ],
   "source": [
    "arr9 = arr7[1:3,0:3] # here we 1:3 is specifying which row need to be sliced and the other two value refers to the index of each row need to be sliced\n",
    "arr9"
   ]
  },
  {
   "cell_type": "markdown",
   "id": "1cf20518-54ea-472e-8abd-4d9040bf20fe",
   "metadata": {},
   "source": [
    "#### 3-D Array Slicing"
   ]
  },
  {
   "cell_type": "code",
   "execution_count": 28,
   "id": "1d446182-93ab-44b9-b886-d586341199fe",
   "metadata": {},
   "outputs": [
    {
     "data": {
      "text/plain": [
       "array([[[ 1,  2,  3],\n",
       "        [ 4,  5,  6]],\n",
       "\n",
       "       [[ 7,  8,  9],\n",
       "        [10, 11, 12]]])"
      ]
     },
     "execution_count": 28,
     "metadata": {},
     "output_type": "execute_result"
    }
   ],
   "source": [
    "arr10 = np.array([\n",
    "    [[1,2,3],[4,5,6]],\n",
    "    [[7,8,9],[10,11,12]]\n",
    "])\n",
    "arr10"
   ]
  },
  {
   "cell_type": "code",
   "execution_count": 30,
   "id": "856c6b19-5cfc-4500-a665-39c055c27094",
   "metadata": {},
   "outputs": [
    {
     "data": {
      "text/plain": [
       "array([7, 8])"
      ]
     },
     "execution_count": 30,
     "metadata": {},
     "output_type": "execute_result"
    }
   ],
   "source": [
    "arr11 = arr10[1, 0, 0:2]\n",
    "arr11"
   ]
  }
 ],
 "metadata": {
  "kernelspec": {
   "display_name": "Python 3 (ipykernel)",
   "language": "python",
   "name": "python3"
  },
  "language_info": {
   "codemirror_mode": {
    "name": "ipython",
    "version": 3
   },
   "file_extension": ".py",
   "mimetype": "text/x-python",
   "name": "python",
   "nbconvert_exporter": "python",
   "pygments_lexer": "ipython3",
   "version": "3.11.7"
  }
 },
 "nbformat": 4,
 "nbformat_minor": 5
}
