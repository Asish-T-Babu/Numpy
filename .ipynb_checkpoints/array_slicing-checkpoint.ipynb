{
 "cells": [
  {
   "cell_type": "markdown",
   "id": "9b14fb3f-98b9-473b-9e2e-b92df09365ea",
   "metadata": {},
   "source": [
    "### Array Slicing"
   ]
  },
  {
   "cell_type": "code",
   "execution_count": 2,
   "id": "0b725483-0d1d-4486-84fa-596e1df210e9",
   "metadata": {},
   "outputs": [],
   "source": [
    "import numpy as np"
   ]
  },
  {
   "cell_type": "markdown",
   "id": "dfac65c1-0339-49ad-9595-0368f37c47bf",
   "metadata": {},
   "source": [
    "#### 1-D Array Slicing"
   ]
  },
  {
   "cell_type": "code",
   "execution_count": 3,
   "id": "897d3ecf-ea91-49d3-8e3f-6d9c9f8f402f",
   "metadata": {},
   "outputs": [
    {
     "data": {
      "text/plain": [
       "array([ 10,  20,  30,  40,  50,  60,  70,  80,  90, 100])"
      ]
     },
     "execution_count": 3,
     "metadata": {},
     "output_type": "execute_result"
    }
   ],
   "source": [
    "arr1  = np.arange(10,101,10)\n",
    "arr1"
   ]
  },
  {
   "cell_type": "code",
   "execution_count": 4,
   "id": "db8df831-6970-48cb-b02f-56166ff95c2e",
   "metadata": {},
   "outputs": [
    {
     "data": {
      "text/plain": [
       "array([20, 30, 40, 50, 60])"
      ]
     },
     "execution_count": 4,
     "metadata": {},
     "output_type": "execute_result"
    }
   ],
   "source": [
    "arr2 = arr1[1:6]\n",
    "arr2"
   ]
  },
  {
   "cell_type": "code",
   "execution_count": 5,
   "id": "9f131fd2-6247-43a9-a3a1-815f608c5215",
   "metadata": {},
   "outputs": [
    {
     "data": {
      "text/plain": [
       "array([20, 40, 60])"
      ]
     },
     "execution_count": 5,
     "metadata": {},
     "output_type": "execute_result"
    }
   ],
   "source": [
    "arr3 = arr1[1:6:2] # here the value refers to the increment of index\n",
    "arr3"
   ]
  },
  {
   "cell_type": "markdown",
   "id": "3f481bd4-ec32-44e9-8e1d-ac6f5950bc99",
   "metadata": {},
   "source": [
    "#### 2-D Array Slicing"
   ]
  },
  {
   "cell_type": "markdown",
   "id": "1cf20518-54ea-472e-8abd-4d9040bf20fe",
   "metadata": {},
   "source": [
    "#### 3-D Array Slicing"
   ]
  }
 ],
 "metadata": {
  "kernelspec": {
   "display_name": "Python 3 (ipykernel)",
   "language": "python",
   "name": "python3"
  },
  "language_info": {
   "codemirror_mode": {
    "name": "ipython",
    "version": 3
   },
   "file_extension": ".py",
   "mimetype": "text/x-python",
   "name": "python",
   "nbconvert_exporter": "python",
   "pygments_lexer": "ipython3",
   "version": "3.11.7"
  }
 },
 "nbformat": 4,
 "nbformat_minor": 5
}
