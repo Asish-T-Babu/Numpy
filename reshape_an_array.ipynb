{
 "cells": [
  {
   "cell_type": "markdown",
   "id": "64a10b46-1936-4790-b4ce-df171452d47d",
   "metadata": {},
   "source": [
    "# Reshape An Array"
   ]
  },
  {
   "cell_type": "code",
   "execution_count": 2,
   "id": "ef37c32e-16a5-4cf5-869e-3c10f4951acf",
   "metadata": {},
   "outputs": [],
   "source": [
    "import numpy as np"
   ]
  },
  {
   "cell_type": "markdown",
   "id": "42e33be6-c77d-436a-9939-29b8ecd0d024",
   "metadata": {},
   "source": [
    "## One Dimension To Two Dimension Array"
   ]
  },
  {
   "cell_type": "code",
   "execution_count": 3,
   "id": "6838d02c-221c-4c30-bf78-e4ab6030fce9",
   "metadata": {},
   "outputs": [
    {
     "data": {
      "text/plain": [
       "array([1, 2, 3, 4, 5, 6])"
      ]
     },
     "execution_count": 3,
     "metadata": {},
     "output_type": "execute_result"
    }
   ],
   "source": [
    "arr1 = np.array([1,2,3,4,5,6])\n",
    "arr1"
   ]
  },
  {
   "cell_type": "code",
   "execution_count": 6,
   "id": "a82c2050-3c9b-4f0a-9860-abeddeea4598",
   "metadata": {},
   "outputs": [
    {
     "data": {
      "text/plain": [
       "array([[1, 2, 3],\n",
       "       [4, 5, 6]])"
      ]
     },
     "execution_count": 6,
     "metadata": {},
     "output_type": "execute_result"
    }
   ],
   "source": [
    "new_arr1 = arr1.reshape(2,3)\n",
    "new_arr1"
   ]
  },
  {
   "cell_type": "code",
   "execution_count": 7,
   "id": "db511fe7-b680-494a-bd6f-4bc6dc5f0880",
   "metadata": {},
   "outputs": [
    {
     "data": {
      "text/plain": [
       "(2, 3)"
      ]
     },
     "execution_count": 7,
     "metadata": {},
     "output_type": "execute_result"
    }
   ],
   "source": [
    "new_arr1.shape"
   ]
  },
  {
   "cell_type": "markdown",
   "id": "c5ea5640-2647-4e4d-b578-315325b15da2",
   "metadata": {},
   "source": [
    "## One Dimension To Three Dimension Array"
   ]
  },
  {
   "cell_type": "code",
   "execution_count": 9,
   "id": "5769f48b-45d8-4889-8ab8-5d9b8f1c0506",
   "metadata": {},
   "outputs": [
    {
     "data": {
      "text/plain": [
       "(8,)"
      ]
     },
     "execution_count": 9,
     "metadata": {},
     "output_type": "execute_result"
    }
   ],
   "source": [
    "arr2 = np.array([1,2,3,4,5,6,7,8])\n",
    "arr2.shape"
   ]
  },
  {
   "cell_type": "code",
   "execution_count": 11,
   "id": "06e810b9-f237-4e98-b538-0287994f1586",
   "metadata": {},
   "outputs": [
    {
     "data": {
      "text/plain": [
       "array([[[1, 2],\n",
       "        [3, 4]],\n",
       "\n",
       "       [[5, 6],\n",
       "        [7, 8]]])"
      ]
     },
     "execution_count": 11,
     "metadata": {},
     "output_type": "execute_result"
    }
   ],
   "source": [
    "new_arr2 = arr2.reshape(2,2,2)\n",
    "new_arr2"
   ]
  },
  {
   "cell_type": "code",
   "execution_count": 12,
   "id": "96f4626f-0f78-44f7-8d05-dda7756dd146",
   "metadata": {},
   "outputs": [
    {
     "data": {
      "text/plain": [
       "(2, 2, 2)"
      ]
     },
     "execution_count": 12,
     "metadata": {},
     "output_type": "execute_result"
    }
   ],
   "source": [
    "new_arr2.shape"
   ]
  },
  {
   "cell_type": "markdown",
   "id": "28043c79-c839-430d-9154-6e534dae570a",
   "metadata": {},
   "source": [
    "## Two Dimension To Two Dimension Array"
   ]
  },
  {
   "cell_type": "code",
   "execution_count": 13,
   "id": "6a5df890-f777-44fb-8951-ead299e74666",
   "metadata": {},
   "outputs": [],
   "source": [
    "arr3 = np.array([[1,2],[3,4],[5,6],[7,8]])"
   ]
  },
  {
   "cell_type": "code",
   "execution_count": 14,
   "id": "d2dd6176-e944-4275-bef5-0b9dfce3d23b",
   "metadata": {},
   "outputs": [
    {
     "data": {
      "text/plain": [
       "(4, 2)"
      ]
     },
     "execution_count": 14,
     "metadata": {},
     "output_type": "execute_result"
    }
   ],
   "source": [
    "arr3.shape"
   ]
  },
  {
   "cell_type": "code",
   "execution_count": 15,
   "id": "d43bcf7f-6834-4bb3-ba32-a78c604dd889",
   "metadata": {},
   "outputs": [],
   "source": [
    "new_arr3 = arr3.reshape(2,4)"
   ]
  },
  {
   "cell_type": "code",
   "execution_count": 16,
   "id": "72a2bb41-b588-48d3-9d81-9bf0abe42de1",
   "metadata": {},
   "outputs": [
    {
     "data": {
      "text/plain": [
       "array([[1, 2, 3, 4],\n",
       "       [5, 6, 7, 8]])"
      ]
     },
     "execution_count": 16,
     "metadata": {},
     "output_type": "execute_result"
    }
   ],
   "source": [
    "new_arr3"
   ]
  },
  {
   "cell_type": "code",
   "execution_count": 17,
   "id": "d48bb4bc-2fc8-4ea1-8274-5cf5a29bc14d",
   "metadata": {},
   "outputs": [
    {
     "data": {
      "text/plain": [
       "(2, 4)"
      ]
     },
     "execution_count": 17,
     "metadata": {},
     "output_type": "execute_result"
    }
   ],
   "source": [
    "new_arr3.shape"
   ]
  },
  {
   "cell_type": "markdown",
   "id": "864fc007-90c9-4167-a60b-895e729777c3",
   "metadata": {},
   "source": [
    "## Two Dimension To Three Dimension Array"
   ]
  },
  {
   "cell_type": "code",
   "execution_count": 19,
   "id": "09dbca72-3ae0-4e1e-8161-127a1a0aea39",
   "metadata": {},
   "outputs": [],
   "source": [
    "new_3d_arr3 = arr3.reshape(2,2,2)"
   ]
  },
  {
   "cell_type": "code",
   "execution_count": 20,
   "id": "f8b8a217-2f0b-4743-a17e-8e1837663fee",
   "metadata": {},
   "outputs": [
    {
     "data": {
      "text/plain": [
       "array([[[1, 2],\n",
       "        [3, 4]],\n",
       "\n",
       "       [[5, 6],\n",
       "        [7, 8]]])"
      ]
     },
     "execution_count": 20,
     "metadata": {},
     "output_type": "execute_result"
    }
   ],
   "source": [
    "new_3d_arr3"
   ]
  },
  {
   "cell_type": "code",
   "execution_count": 21,
   "id": "b729ecf2-b30c-4721-94c2-c23c1db08ab4",
   "metadata": {},
   "outputs": [
    {
     "data": {
      "text/plain": [
       "(2, 2, 2)"
      ]
     },
     "execution_count": 21,
     "metadata": {},
     "output_type": "execute_result"
    }
   ],
   "source": [
    "new_3d_arr3.shape"
   ]
  },
  {
   "cell_type": "markdown",
   "id": "899796bf-1769-47fe-8847-1caf8b6c9a41",
   "metadata": {},
   "source": [
    "## Three Dimension To Two Dimension Array"
   ]
  },
  {
   "cell_type": "code",
   "execution_count": 23,
   "id": "9dfba618-dd96-4b23-8c2d-5d6c3a159c2f",
   "metadata": {},
   "outputs": [],
   "source": [
    "new_arr4 = new_3d_arr3.reshape(2,4)"
   ]
  },
  {
   "cell_type": "code",
   "execution_count": 24,
   "id": "c5b798bc-60f8-4170-8536-69ad69aaca60",
   "metadata": {},
   "outputs": [
    {
     "data": {
      "text/plain": [
       "array([[1, 2, 3, 4],\n",
       "       [5, 6, 7, 8]])"
      ]
     },
     "execution_count": 24,
     "metadata": {},
     "output_type": "execute_result"
    }
   ],
   "source": [
    "new_arr4"
   ]
  },
  {
   "cell_type": "markdown",
   "id": "2a96ffcb-782a-4a88-959e-0bbb8a6a2d1e",
   "metadata": {},
   "source": [
    "## Multi Dimension Array To One Dimension Array"
   ]
  },
  {
   "cell_type": "code",
   "execution_count": 26,
   "id": "dfe48c56-5e84-4589-942f-e18d099dc0f4",
   "metadata": {},
   "outputs": [
    {
     "data": {
      "text/plain": [
       "array([[[1, 2],\n",
       "        [3, 4]],\n",
       "\n",
       "       [[5, 6],\n",
       "        [7, 8]]])"
      ]
     },
     "execution_count": 26,
     "metadata": {},
     "output_type": "execute_result"
    }
   ],
   "source": [
    "new_3d_arr3"
   ]
  },
  {
   "cell_type": "code",
   "execution_count": 27,
   "id": "9a819bd2-0327-4972-90a5-3da4cad3a4dc",
   "metadata": {},
   "outputs": [],
   "source": [
    "new_arr5 = new_3d_arr3.reshape(-1)"
   ]
  },
  {
   "cell_type": "code",
   "execution_count": 28,
   "id": "3704105a-1a66-4b51-b40f-f3c0935a2c3f",
   "metadata": {},
   "outputs": [
    {
     "data": {
      "text/plain": [
       "array([1, 2, 3, 4, 5, 6, 7, 8])"
      ]
     },
     "execution_count": 28,
     "metadata": {},
     "output_type": "execute_result"
    }
   ],
   "source": [
    "new_arr5"
   ]
  },
  {
   "cell_type": "code",
   "execution_count": 29,
   "id": "1ba916b6-cced-41e3-b739-d42cbaa4eb83",
   "metadata": {},
   "outputs": [
    {
     "data": {
      "text/plain": [
       "(2, 4)"
      ]
     },
     "execution_count": 29,
     "metadata": {},
     "output_type": "execute_result"
    }
   ],
   "source": [
    "new_arr4.shape"
   ]
  },
  {
   "cell_type": "code",
   "execution_count": 30,
   "id": "daafb359-337a-4643-9df8-88d4076cfcc4",
   "metadata": {},
   "outputs": [],
   "source": [
    "new_arr6 = new_arr4.reshape(-1)"
   ]
  },
  {
   "cell_type": "code",
   "execution_count": 31,
   "id": "87ff5fe9-cf1b-4f90-9394-182da6788721",
   "metadata": {},
   "outputs": [
    {
     "data": {
      "text/plain": [
       "array([1, 2, 3, 4, 5, 6, 7, 8])"
      ]
     },
     "execution_count": 31,
     "metadata": {},
     "output_type": "execute_result"
    }
   ],
   "source": [
    "new_arr6"
   ]
  },
  {
   "cell_type": "code",
   "execution_count": 32,
   "id": "45fa20bd-e35c-48ce-9b5f-f4ab27b5d4b2",
   "metadata": {},
   "outputs": [
    {
     "data": {
      "text/plain": [
       "(8,)"
      ]
     },
     "execution_count": 32,
     "metadata": {},
     "output_type": "execute_result"
    }
   ],
   "source": [
    "new_arr6.shape"
   ]
  }
 ],
 "metadata": {
  "kernelspec": {
   "display_name": "Python 3 (ipykernel)",
   "language": "python",
   "name": "python3"
  },
  "language_info": {
   "codemirror_mode": {
    "name": "ipython",
    "version": 3
   },
   "file_extension": ".py",
   "mimetype": "text/x-python",
   "name": "python",
   "nbconvert_exporter": "python",
   "pygments_lexer": "ipython3",
   "version": "3.11.7"
  }
 },
 "nbformat": 4,
 "nbformat_minor": 5
}
